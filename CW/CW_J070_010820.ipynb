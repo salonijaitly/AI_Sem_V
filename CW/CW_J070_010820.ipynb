{
  "nbformat": 4,
  "nbformat_minor": 0,
  "metadata": {
    "colab": {
      "name": "CW_J070_010820.ipynb",
      "provenance": [],
      "authorship_tag": "ABX9TyNhd79zcwZT0Y0Ak8EPmYEP",
      "include_colab_link": true
    },
    "kernelspec": {
      "name": "python3",
      "display_name": "Python 3"
    }
  },
  "cells": [
    {
      "cell_type": "markdown",
      "metadata": {
        "id": "view-in-github",
        "colab_type": "text"
      },
      "source": [
        "<a href=\"https://colab.research.google.com/github/salonijaitly/AI_Sem_V/blob/master/CW/CW_J070_010820.ipynb\" target=\"_parent\"><img src=\"https://colab.research.google.com/assets/colab-badge.svg\" alt=\"Open In Colab\"/></a>"
      ]
    },
    {
      "cell_type": "markdown",
      "metadata": {
        "id": "icOOinneJgkz",
        "colab_type": "text"
      },
      "source": [
        "**FACTORIAL**"
      ]
    },
    {
      "cell_type": "code",
      "metadata": {
        "id": "OI-PgeVoEski",
        "colab_type": "code",
        "colab": {}
      },
      "source": [
        "# recursion - Function calling itself during execution\n",
        "def factorial_recursion(n):\n",
        "  factor=1\n",
        "  if(n==0):\n",
        "    return factor\n",
        "  else:\n",
        "    return n*factorial_recursion(n-1)\n",
        "\n",
        "def factorial_simpl(n):\n",
        "  factor=1\n",
        "  for i in range(1,n+1):\n",
        "    factor=factor*i\n",
        "  return factor"
      ],
      "execution_count": 2,
      "outputs": []
    },
    {
      "cell_type": "code",
      "metadata": {
        "id": "SBHDAU9rIH7f",
        "colab_type": "code",
        "colab": {
          "base_uri": "https://localhost:8080/",
          "height": 35
        },
        "outputId": "86e732cb-7d36-435e-feb7-f63cca1ad449"
      },
      "source": [
        "factorial_recursion(5)"
      ],
      "execution_count": 3,
      "outputs": [
        {
          "output_type": "execute_result",
          "data": {
            "text/plain": [
              "120"
            ]
          },
          "metadata": {
            "tags": []
          },
          "execution_count": 3
        }
      ]
    },
    {
      "cell_type": "code",
      "metadata": {
        "id": "KnIwd5flIOK2",
        "colab_type": "code",
        "colab": {
          "base_uri": "https://localhost:8080/",
          "height": 35
        },
        "outputId": "a4dc5134-a5a7-40b5-ec7a-274db2b3d6ba"
      },
      "source": [
        "factorial_simpl(5)"
      ],
      "execution_count": 4,
      "outputs": [
        {
          "output_type": "execute_result",
          "data": {
            "text/plain": [
              "120"
            ]
          },
          "metadata": {
            "tags": []
          },
          "execution_count": 4
        }
      ]
    },
    {
      "cell_type": "markdown",
      "metadata": {
        "id": "SwzTol_iJ7Sb",
        "colab_type": "text"
      },
      "source": [
        "**FIBONACCI**"
      ]
    },
    {
      "cell_type": "code",
      "metadata": {
        "id": "42hdk0xgUrYc",
        "colab_type": "code",
        "colab": {}
      },
      "source": [
        "def fibonacci(n):\n",
        "  if n==0 or n==1:\n",
        "    return n\n",
        "  else:\n",
        "    return fibonacci(n-1)+fibonacci(n-2)\n"
      ],
      "execution_count": 55,
      "outputs": []
    },
    {
      "cell_type": "code",
      "metadata": {
        "id": "MvXK_apFUrsK",
        "colab_type": "code",
        "colab": {
          "base_uri": "https://localhost:8080/",
          "height": 35
        },
        "outputId": "7330f01c-aef1-44ee-bd7b-0073a7e92738"
      },
      "source": [
        "fibonacci(5)"
      ],
      "execution_count": 56,
      "outputs": [
        {
          "output_type": "execute_result",
          "data": {
            "text/plain": [
              "5"
            ]
          },
          "metadata": {
            "tags": []
          },
          "execution_count": 56
        }
      ]
    },
    {
      "cell_type": "code",
      "metadata": {
        "id": "Sr0FLiJRIQQS",
        "colab_type": "code",
        "colab": {}
      },
      "source": [
        "#0112358\n",
        "#base Case-sum(0,1)\n",
        "#nth number is sum of previous two numbers num(n)=sum((num(n-1),num(n-2))\n",
        "#nth term only"
      ],
      "execution_count": 43,
      "outputs": []
    },
    {
      "cell_type": "code",
      "metadata": {
        "id": "36J604W8XtJS",
        "colab_type": "code",
        "colab": {}
      },
      "source": [
        "def fibonacci_recursion(n):\n",
        "  fibo = []\n",
        "  fibo.append(0); fibo.append(1)\n",
        "  for i in range (2, n+1):\n",
        "    fibo.append(fibo[i-1]+fibo[i-2])\n",
        "  return fibo[n]\n"
      ],
      "execution_count": 57,
      "outputs": []
    },
    {
      "cell_type": "code",
      "metadata": {
        "id": "HOPxVdXwXtbK",
        "colab_type": "code",
        "colab": {
          "base_uri": "https://localhost:8080/",
          "height": 35
        },
        "outputId": "9e2a692b-b2d6-49b8-e3c1-ed38f97e3f3b"
      },
      "source": [
        "fibonacci_recursion(5)"
      ],
      "execution_count": 58,
      "outputs": [
        {
          "output_type": "execute_result",
          "data": {
            "text/plain": [
              "5"
            ]
          },
          "metadata": {
            "tags": []
          },
          "execution_count": 58
        }
      ]
    },
    {
      "cell_type": "markdown",
      "metadata": {
        "id": "cXDqkWMTKUQp",
        "colab_type": "text"
      },
      "source": [
        "**BINARY SEARCH**"
      ]
    },
    {
      "cell_type": "code",
      "metadata": {
        "id": "eTVPi7drR9d-",
        "colab_type": "code",
        "colab": {}
      },
      "source": [
        "#binary search\n",
        "list=[2,4,6,8,10,12,14,20,333,42,1,9,77]"
      ],
      "execution_count": 15,
      "outputs": []
    },
    {
      "cell_type": "code",
      "metadata": {
        "id": "dqu-06igWmfD",
        "colab_type": "code",
        "colab": {}
      },
      "source": [
        "list1=list.copy().sort()"
      ],
      "execution_count": 20,
      "outputs": []
    },
    {
      "cell_type": "code",
      "metadata": {
        "id": "1id4IWzAWq75",
        "colab_type": "code",
        "colab": {
          "base_uri": "https://localhost:8080/",
          "height": 35
        },
        "outputId": "5aa06615-ac81-49b1-98fc-43c388b60c73"
      },
      "source": [
        "print(list1)"
      ],
      "execution_count": 23,
      "outputs": [
        {
          "output_type": "stream",
          "text": [
            "None\n"
          ],
          "name": "stdout"
        }
      ]
    },
    {
      "cell_type": "code",
      "metadata": {
        "id": "bsPM5iW6PuYt",
        "colab_type": "code",
        "colab": {}
      },
      "source": [
        "element = 18"
      ],
      "execution_count": 26,
      "outputs": []
    },
    {
      "cell_type": "markdown",
      "metadata": {
        "id": "pYxb6odrXLJ1",
        "colab_type": "text"
      },
      "source": [
        "\n",
        "Tractable - PTIME (Polynomial Time Solvable)\n",
        "Polynomial - Expression where each term is n^k where k can be any whole number\n",
        "Degree of the polynomial highest power of the variable within the expression\n",
        "\n",
        "Polynomial Time - Runtime of the code or solution should be a polynomial of degree k where k is a constant, and since it is time n cannot be negative\n",
        "n : Input space or dimension eg O(n^4) - 3n^4 + 2n^2 + 1\n",
        "n=1 => 1\n",
        "n=2 => 2^4\n",
        "n=3 => 3^4\n",
        "n=4 => 4^4\n"
      ]
    },
    {
      "cell_type": "code",
      "metadata": {
        "id": "pcIx2OHJAk-U",
        "colab_type": "code",
        "colab": {}
      },
      "source": [
        "\n",
        "def binarySearch(A, left, right, x):\n",
        "\tif left > right:\n",
        "\t\treturn -1\n",
        "\tmid = (left + right) // 2\n",
        "\t\n",
        "\tif x == A[mid]:\n",
        "\t\treturn mid\n",
        "\n",
        "\n",
        "\telif x < A[mid]:\n",
        "\t\treturn binarySearch(A, left, mid - 1, x)\n",
        "\n",
        "\telse:\n",
        "\t\treturn binarySearch(A, mid + 1, right, x)"
      ],
      "execution_count": 38,
      "outputs": []
    },
    {
      "cell_type": "code",
      "metadata": {
        "id": "sM5NpebwPfeW",
        "colab_type": "code",
        "colab": {
          "base_uri": "https://localhost:8080/",
          "height": 35
        },
        "outputId": "fa94dad8-824a-4ed9-9a31-888757d30577"
      },
      "source": [
        "index = binarySearch(list,0,len(list)-1,element)\n",
        "if index != -1:\n",
        "\t\tprint(\"Element found at index\", index)\n",
        "else:\n",
        "\t\tprint(\"Element found not in the list\")"
      ],
      "execution_count": 40,
      "outputs": [
        {
          "output_type": "stream",
          "text": [
            "Element not found in the list\n"
          ],
          "name": "stdout"
        }
      ]
    }
  ]
}
