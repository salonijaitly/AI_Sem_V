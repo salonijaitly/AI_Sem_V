{
  "nbformat": 4,
  "nbformat_minor": 0,
  "metadata": {
    "colab": {
      "name": "CW_J070_080820.ipynb",
      "provenance": [],
      "collapsed_sections": [],
      "authorship_tag": "ABX9TyNkvc3nXQ9DQ8ZFmDa5RNt+",
      "include_colab_link": true
    },
    "kernelspec": {
      "name": "python3",
      "display_name": "Python 3"
    }
  },
  "cells": [
    {
      "cell_type": "markdown",
      "metadata": {
        "id": "view-in-github",
        "colab_type": "text"
      },
      "source": [
        "<a href=\"https://colab.research.google.com/github/salonijaitly/AI_Sem_V/blob/master/CW/CW_J070_080820.ipynb\" target=\"_parent\"><img src=\"https://colab.research.google.com/assets/colab-badge.svg\" alt=\"Open In Colab\"/></a>"
      ]
    },
    {
      "cell_type": "code",
      "metadata": {
        "id": "wEgYP8oHDOzV",
        "colab_type": "code",
        "colab": {}
      },
      "source": [
        "import timeit"
      ],
      "execution_count": null,
      "outputs": []
    },
    {
      "cell_type": "code",
      "metadata": {
        "id": "DCzLaSs5HI1G",
        "colab_type": "code",
        "colab": {}
      },
      "source": [
        "\"\"\"\n",
        "    PTIME - If n is the input size then, if complete computation can be done or expressed in a polynomial(algebraic expression with degree or highest power as a whole number).\n",
        "Time Complexity is O(n^K) where a polynomial of an^k+a1*n^k-1+... will be of order an^k\n",
        "\n",
        "Is negative feasible Negative \n",
        "n^-1/3 -> 1/n^1/3\n",
        "n=27 n=216\n",
        "1/3 , 1/6\n",
        "1/3>1/6\n",
        "Can time for computation decrease as inputs increase ?\n",
        "\"\"\""
      ],
      "execution_count": null,
      "outputs": []
    },
    {
      "cell_type": "code",
      "metadata": {
        "id": "ylaLRVoSFEEg",
        "colab_type": "code",
        "colab": {}
      },
      "source": [
        "def factorial_simpl(n):\n",
        "  factor=1\n",
        "  for i in range(1,n+1):\n",
        "    factor=factor*i\n",
        "  return factor"
      ],
      "execution_count": null,
      "outputs": []
    },
    {
      "cell_type": "code",
      "metadata": {
        "id": "aEke3KADGvWK",
        "colab_type": "code",
        "colab": {
          "base_uri": "https://localhost:8080/",
          "height": 72
        },
        "outputId": "9adfd02a-8c19-451e-cb5f-5090c3bdb06f"
      },
      "source": [
        "%timeit (factorial_simpl(5))"
      ],
      "execution_count": null,
      "outputs": [
        {
          "output_type": "stream",
          "text": [
            "The slowest run took 10.49 times longer than the fastest. This could mean that an intermediate result is being cached.\n",
            "1000000 loops, best of 3: 434 ns per loop\n"
          ],
          "name": "stdout"
        }
      ]
    },
    {
      "cell_type": "code",
      "metadata": {
        "id": "tLgHilBlHsg7",
        "colab_type": "code",
        "colab": {
          "base_uri": "https://localhost:8080/",
          "height": 35
        },
        "outputId": "c19635b5-b6f5-4032-c9df-b7a5d1123578"
      },
      "source": [
        "%timeit (factorial_simpl(50))"
      ],
      "execution_count": null,
      "outputs": [
        {
          "output_type": "stream",
          "text": [
            "100000 loops, best of 3: 2.87 µs per loop\n"
          ],
          "name": "stdout"
        }
      ]
    },
    {
      "cell_type": "code",
      "metadata": {
        "id": "k5oT6FK6FURX",
        "colab_type": "code",
        "colab": {
          "base_uri": "https://localhost:8080/",
          "height": 35
        },
        "outputId": "45c2304d-d415-4212-ebe4-09a1e8d6280d"
      },
      "source": [
        "%timeit (factorial_simpl(500))"
      ],
      "execution_count": null,
      "outputs": [
        {
          "output_type": "stream",
          "text": [
            "10000 loops, best of 3: 61.4 µs per loop\n"
          ],
          "name": "stdout"
        }
      ]
    },
    {
      "cell_type": "code",
      "metadata": {
        "id": "pdaP1sXzHxw7",
        "colab_type": "code",
        "colab": {
          "base_uri": "https://localhost:8080/",
          "height": 35
        },
        "outputId": "dddc0e03-eaa7-4269-dbe6-2eb01be1def3"
      },
      "source": [
        "%timeit (factorial_simpl(5000))"
      ],
      "execution_count": null,
      "outputs": [
        {
          "output_type": "stream",
          "text": [
            "100 loops, best of 3: 4.35 ms per loop\n"
          ],
          "name": "stdout"
        }
      ]
    },
    {
      "cell_type": "code",
      "metadata": {
        "id": "HoQSx4-FGsW3",
        "colab_type": "code",
        "colab": {}
      },
      "source": [
        "#we see an increase in run time as the n increase"
      ],
      "execution_count": null,
      "outputs": []
    },
    {
      "cell_type": "code",
      "metadata": {
        "id": "z28POuLcFtOm",
        "colab_type": "code",
        "colab": {}
      },
      "source": [
        "#n^-1/3 - not feasible in input space"
      ],
      "execution_count": null,
      "outputs": []
    },
    {
      "cell_type": "code",
      "metadata": {
        "id": "n98WKGESH-cL",
        "colab_type": "code",
        "colab": {}
      },
      "source": [
        "def sum(a,b):\n",
        "  return a+b"
      ],
      "execution_count": null,
      "outputs": []
    },
    {
      "cell_type": "code",
      "metadata": {
        "id": "UKEoo1fiI2nq",
        "colab_type": "code",
        "colab": {
          "base_uri": "https://localhost:8080/",
          "height": 72
        },
        "outputId": "a05caa92-bfb3-4ac2-fce9-971a042ce281"
      },
      "source": [
        "%timeit sum(5,10)"
      ],
      "execution_count": null,
      "outputs": [
        {
          "output_type": "stream",
          "text": [
            "The slowest run took 20.27 times longer than the fastest. This could mean that an intermediate result is being cached.\n",
            "10000000 loops, best of 3: 85.7 ns per loop\n"
          ],
          "name": "stdout"
        }
      ]
    },
    {
      "cell_type": "code",
      "metadata": {
        "id": "j3xHoRAgI5x6",
        "colab_type": "code",
        "colab": {
          "base_uri": "https://localhost:8080/",
          "height": 72
        },
        "outputId": "224ce619-0395-4f3b-c293-bc7079c21da3"
      },
      "source": [
        "%timeit sum(50,100)"
      ],
      "execution_count": null,
      "outputs": [
        {
          "output_type": "stream",
          "text": [
            "The slowest run took 13.80 times longer than the fastest. This could mean that an intermediate result is being cached.\n",
            "10000000 loops, best of 3: 86.7 ns per loop\n"
          ],
          "name": "stdout"
        }
      ]
    },
    {
      "cell_type": "code",
      "metadata": {
        "id": "Dkcdxu3uJA8Q",
        "colab_type": "code",
        "colab": {
          "base_uri": "https://localhost:8080/",
          "height": 72
        },
        "outputId": "c099f06d-c493-4fac-8061-19ad9ddde889"
      },
      "source": [
        "%timeit sum(500,1000)"
      ],
      "execution_count": null,
      "outputs": [
        {
          "output_type": "stream",
          "text": [
            "The slowest run took 15.72 times longer than the fastest. This could mean that an intermediate result is being cached.\n",
            "10000000 loops, best of 3: 92.6 ns per loop\n"
          ],
          "name": "stdout"
        }
      ]
    },
    {
      "cell_type": "code",
      "metadata": {
        "id": "HWDm3WnRJaDb",
        "colab_type": "code",
        "colab": {
          "base_uri": "https://localhost:8080/",
          "height": 72
        },
        "outputId": "ec119d5e-32ce-4af1-b542-294340caa4d3"
      },
      "source": [
        "%timeit sum(5000,10000)"
      ],
      "execution_count": null,
      "outputs": [
        {
          "output_type": "stream",
          "text": [
            "The slowest run took 12.28 times longer than the fastest. This could mean that an intermediate result is being cached.\n",
            "10000000 loops, best of 3: 90.8 ns per loop\n"
          ],
          "name": "stdout"
        }
      ]
    },
    {
      "cell_type": "code",
      "metadata": {
        "id": "BStNP3KwJgVh",
        "colab_type": "code",
        "colab": {}
      },
      "source": [
        "NP(problem)-Solution is in non polynomial time\n",
        "P(problem)-Solution is in Polynomial Time O(n^4) -> log n(is log n polynomial time or not?)\n",
        "           (n*logn)"
      ],
      "execution_count": null,
      "outputs": []
    },
    {
      "cell_type": "code",
      "metadata": {
        "id": "P084sinEsbw6",
        "colab_type": "code",
        "colab": {}
      },
      "source": [
        "log 50(base10) - 1.69(<n^1)\n",
        "log 500(base10) - 2.69()<n^1\n",
        "log 5000(base10) - 3.69()<n^1\n",
        "for non linear change in n, change is linear\n",
        "\n",
        "\n",
        "NP() - n!\n",
        "       5! 120->5^3\n",
        "       50! 3.04e+64 microsecs -> days -> 3.52e+52 days\n",
        "       500!\n",
        "\n",
        "NP Complete -> All NP hard problems can be approximated to the problem then it is NP Complete\n",
        "NP Hard Problems -> a problem is Np Hard if its solution is in NP, Cannot be verified in P Time"
      ],
      "execution_count": null,
      "outputs": []
    }
  ]
}