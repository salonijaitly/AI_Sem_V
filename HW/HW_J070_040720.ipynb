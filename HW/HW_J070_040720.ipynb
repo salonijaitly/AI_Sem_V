{
  "nbformat": 4,
  "nbformat_minor": 0,
  "metadata": {
    "colab": {
      "name": "HW_J070_040720.ipynb",
      "provenance": [],
      "authorship_tag": "ABX9TyODSyw9xwTDoXn98Og4/k1r",
      "include_colab_link": true
    },
    "kernelspec": {
      "name": "python3",
      "display_name": "Python 3"
    }
  },
  "cells": [
    {
      "cell_type": "markdown",
      "metadata": {
        "id": "view-in-github",
        "colab_type": "text"
      },
      "source": [
        "<a href=\"https://colab.research.google.com/github/salonijaitly/AI_Sem_V/blob/master/HW/HW_J070_040720.ipynb\" target=\"_parent\"><img src=\"https://colab.research.google.com/assets/colab-badge.svg\" alt=\"Open In Colab\"/></a>"
      ]
    },
    {
      "cell_type": "markdown",
      "metadata": {
        "id": "iQ7IcSdLlEXX",
        "colab_type": "text"
      },
      "source": [
        "#Task 1: ifelse"
      ]
    },
    {
      "cell_type": "markdown",
      "metadata": {
        "id": "dIc6j_vZlax6",
        "colab_type": "text"
      },
      "source": [
        "Task\n",
        "Given an integer, , perform the following conditional actions:\n",
        "\n",
        "If  is odd, print Weird\n",
        "If  is even and in the inclusive range of  to , print Not Weird\n",
        "\n",
        "If  is even and in the inclusive range of  to , print Weird\n",
        "\n",
        "If  is even and greater than , print Not Weird"
      ]
    },
    {
      "cell_type": "code",
      "metadata": {
        "id": "f3p-RXS0lK5K",
        "colab_type": "code",
        "colab": {
          "base_uri": "https://localhost:8080/",
          "height": 50
        },
        "outputId": "b3f7cc0b-2922-4ba5-f668-671ce8f42f2a"
      },
      "source": [
        "import math\n",
        "import os\n",
        "import random\n",
        "import re\n",
        "import sys\n",
        "\n",
        "if __name__ == '__main__':\n",
        " n = int(input().strip())\n",
        "if n % 2 == 1:\n",
        "    print(\"Weird\")\n",
        "elif n % 2 == 0 and 2 <= n <= 5:\n",
        "    print(\"Not Weird\")\n",
        "elif n % 2 == 0 and 6 <= n <= 20:\n",
        "    print(\"Weird\")\n",
        "else:\n",
        "    print(\"Not Weird\")\n"
      ],
      "execution_count": 1,
      "outputs": [
        {
          "output_type": "stream",
          "text": [
            "24\n",
            "Not Weird\n"
          ],
          "name": "stdout"
        }
      ]
    },
    {
      "cell_type": "markdown",
      "metadata": {
        "id": "c8gk4zC_nUae",
        "colab_type": "text"
      },
      "source": [
        "# Task 2 : Arithmetic Operators"
      ]
    },
    {
      "cell_type": "markdown",
      "metadata": {
        "id": "KjyZAiHvn1Y1",
        "colab_type": "text"
      },
      "source": [
        "Read two integers from STDIN and print three lines where:\n",
        "\n",
        "The first line contains the sum of the two numbers.\n",
        "\n",
        "The second line contains the difference of the two numbers (first - second).\n",
        "\n",
        "The third line contains the product of the two numbers."
      ]
    },
    {
      "cell_type": "code",
      "metadata": {
        "id": "f5_zT3AplPo-",
        "colab_type": "code",
        "colab": {
          "base_uri": "https://localhost:8080/",
          "height": 117
        },
        "outputId": "2eceb325-72de-4d06-acc3-4087191fb81a"
      },
      "source": [
        "if __name__ == '__main__':\n",
        "    a = int(input())\n",
        "    b = int(input())\n",
        "    print('output:')\n",
        "    print(a + b)\n",
        "    print(a - b)\n",
        "    print(a * b)\n",
        "   "
      ],
      "execution_count": 2,
      "outputs": [
        {
          "output_type": "stream",
          "text": [
            "4\n",
            "5\n",
            "output:\n",
            "9\n",
            "-1\n",
            "20\n"
          ],
          "name": "stdout"
        }
      ]
    },
    {
      "cell_type": "markdown",
      "metadata": {
        "id": "DxXnuU86rYt4",
        "colab_type": "text"
      },
      "source": [
        "# Task 3 : Division"
      ]
    },
    {
      "cell_type": "markdown",
      "metadata": {
        "id": "f61ob83CrhWG",
        "colab_type": "text"
      },
      "source": [
        "Read two integers and print two lines.\n",
        "The first line should contain integer division,  // .\n",
        " \n",
        " The second line should contain float division,  / .\n",
        "\n",
        "You don't need to perform any rounding or formatting operations."
      ]
    },
    {
      "cell_type": "code",
      "metadata": {
        "id": "JGXSEzhVn9F0",
        "colab_type": "code",
        "colab": {
          "base_uri": "https://localhost:8080/",
          "height": 100
        },
        "outputId": "56906913-839c-49ce-b3bb-6be678d627ed"
      },
      "source": [
        "if __name__ == '__main__':\n",
        "    a = int(input())\n",
        "    b = int(input())\n",
        "    print('output:')\n",
        "    print(a//b)\n",
        "    print(a/b)"
      ],
      "execution_count": null,
      "outputs": [
        {
          "output_type": "stream",
          "text": [
            "5\n",
            "4\n",
            "output:\n",
            "1\n",
            "1.25\n"
          ],
          "name": "stdout"
        }
      ]
    },
    {
      "cell_type": "markdown",
      "metadata": {
        "id": "Av_s9vSH113x",
        "colab_type": "text"
      },
      "source": [
        "#Task 4: Loops"
      ]
    },
    {
      "cell_type": "markdown",
      "metadata": {
        "id": "u-7h2HoA17iy",
        "colab_type": "text"
      },
      "source": [
        "Read an integer n . \n",
        "For all non-negative integers i<n, print i^2"
      ]
    },
    {
      "cell_type": "code",
      "metadata": {
        "id": "uMyA03Njr1P9",
        "colab_type": "code",
        "colab": {
          "base_uri": "https://localhost:8080/",
          "height": 133
        },
        "outputId": "9b0ad330-3aad-4231-ec47-5034a2c11b2e"
      },
      "source": [
        "if __name__ == '__main__':\n",
        "    n = int(input())\n",
        "    print('output:')\n",
        "    if 1<=n and n<=20:\n",
        "       for i in range(0,n):\n",
        "        print(i**2)"
      ],
      "execution_count": null,
      "outputs": [
        {
          "output_type": "stream",
          "text": [
            "5\n",
            "output:\n",
            "0\n",
            "1\n",
            "4\n",
            "9\n",
            "16\n"
          ],
          "name": "stdout"
        }
      ]
    },
    {
      "cell_type": "markdown",
      "metadata": {
        "id": "ck1pNH7A_Fp4",
        "colab_type": "text"
      },
      "source": [
        "#Task 5: Print Function"
      ]
    },
    {
      "cell_type": "markdown",
      "metadata": {
        "id": "YQH1a5uBBCC8",
        "colab_type": "text"
      },
      "source": [
        "Read an integer n .\n",
        "\n",
        "Without using any string methods, try to print the following:\n",
        "123...n\n"
      ]
    },
    {
      "cell_type": "code",
      "metadata": {
        "id": "6t4p12p53GN0",
        "colab_type": "code",
        "colab": {
          "base_uri": "https://localhost:8080/",
          "height": 67
        },
        "outputId": "10b529ad-6df9-4f26-f157-1ddc6f382131"
      },
      "source": [
        "if __name__ == '__main__':\n",
        "    n = int(input())\n",
        "    i = 1\n",
        "    print('output:')\n",
        "    for i in range(1,n+1):\n",
        "        print(i,end='')"
      ],
      "execution_count": 3,
      "outputs": [
        {
          "output_type": "stream",
          "text": [
            "4\n",
            "output:\n",
            "1234"
          ],
          "name": "stdout"
        }
      ]
    },
    {
      "cell_type": "markdown",
      "metadata": {
        "id": "HboRsU6SDIzj",
        "colab_type": "text"
      },
      "source": [
        "#Task 6: List Comprehensions"
      ]
    },
    {
      "cell_type": "markdown",
      "metadata": {
        "id": "ltqKuHg_Do14",
        "colab_type": "text"
      },
      "source": [
        "Let's learn about list comprehensions! You are given three integers X,Y and Z representing the dimensions of a cuboid along with an integer . \n",
        "\n",
        "You have to print a list of all possible coordinates given by (i, j, k) on a 3D grid where the sum of i+j+k is not equal to N."
      ]
    },
    {
      "cell_type": "code",
      "metadata": {
        "id": "9qEw6VJ0BHf5",
        "colab_type": "code",
        "colab": {
          "base_uri": "https://localhost:8080/",
          "height": 117
        },
        "outputId": "041969d7-6c6c-4903-802c-9c5fcd2bcd28"
      },
      "source": [
        "if __name__ == '__main__':\n",
        "    x = int(input())\n",
        "    y = int(input())\n",
        "    z = int(input())\n",
        "    n = int(input())\n",
        "    print('output:')\n",
        "    res = []\n",
        "for i in range(x+1):\n",
        "    for j in range(y+1):\n",
        "        for k in range(z+1):\n",
        "            if i+j+k != n:\n",
        "                res.append([i,j,k])\n",
        "print(res)"
      ],
      "execution_count": 4,
      "outputs": [
        {
          "output_type": "stream",
          "text": [
            "1\n",
            "1\n",
            "2\n",
            "2\n",
            "output:\n",
            "[[0, 0, 0], [0, 0, 1], [0, 1, 0], [0, 1, 2], [1, 0, 0], [1, 0, 2], [1, 1, 1], [1, 1, 2]]\n"
          ],
          "name": "stdout"
        }
      ]
    },
    {
      "cell_type": "code",
      "metadata": {
        "id": "FEi1QwW9C1Ys",
        "colab_type": "code",
        "colab": {}
      },
      "source": [
        ""
      ],
      "execution_count": null,
      "outputs": []
    }
  ]
}