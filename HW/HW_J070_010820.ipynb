{
  "nbformat": 4,
  "nbformat_minor": 0,
  "metadata": {
    "colab": {
      "name": "HW_J070_010820.ipynb",
      "provenance": [],
      "authorship_tag": "ABX9TyPK6J/+pEpTd1VTjsEFZ2y9",
      "include_colab_link": true
    },
    "kernelspec": {
      "name": "python3",
      "display_name": "Python 3"
    }
  },
  "cells": [
    {
      "cell_type": "markdown",
      "metadata": {
        "id": "view-in-github",
        "colab_type": "text"
      },
      "source": [
        "<a href=\"https://colab.research.google.com/github/salonijaitly/AI_Sem_V/blob/master/HW/HW_J070_010820.ipynb\" target=\"_parent\"><img src=\"https://colab.research.google.com/assets/colab-badge.svg\" alt=\"Open In Colab\"/></a>"
      ]
    },
    {
      "cell_type": "markdown",
      "metadata": {
        "id": "9ZvjAVdLcjCS",
        "colab_type": "text"
      },
      "source": [
        "#**Hackerrank Questions**\n",
        "\n",
        "> *Q1.Validating Postal Codes: https://www.hackerrank.com/challenges/validating-postalcode/problem*"
      ]
    },
    {
      "cell_type": "code",
      "metadata": {
        "id": "rdxQWyXucYdW",
        "colab_type": "code",
        "colab": {
          "base_uri": "https://localhost:8080/",
          "height": 52
        },
        "outputId": "c3cb04b8-13e6-46a8-e1f2-eca4208e8c0e"
      },
      "source": [
        "regex_integer_in_range = r\"^[1-9][\\d]{5}$\"\t# Do not delete 'r'.\n",
        "regex_alternating_repetitive_digit_pair = r\"(\\d)(?=\\d\\1)\"\t# Do not delete 'r'.\n",
        "\n",
        "import re\n",
        "P = input()\n",
        "\n",
        "print (bool(re.match(regex_integer_in_range, P)) \n",
        "and len(re.findall(regex_alternating_repetitive_digit_pair, P)) < 2)"
      ],
      "execution_count": null,
      "outputs": [
        {
          "output_type": "stream",
          "text": [
            "110000\n",
            "False\n"
          ],
          "name": "stdout"
        }
      ]
    },
    {
      "cell_type": "markdown",
      "metadata": {
        "id": "k9AalSdasCVv",
        "colab_type": "text"
      },
      "source": [
        "**regex_integer_in_range** = r\"^[1-9][\\d]{5}$\" this is used to check whether the number is in the range 100000 - 999999. ^[1-9] checks whether the input number starts with number between 1 and 9. [\\d]{5} checks whether remaining number has 5 digits or not.\n",
        "\n",
        "**regex_alternating_repetitive_digit_pair** = r\"(\\d)(?=\\d\\1)\" is used to check the number of alternating numbers. (\\d)(?=\\d\\1) checks whether 2 alternate numbers are same or not. \\d is used to access the first number, \\d\\1 is used to get the second number and ?= is used to check whether the numbers are same or not"
      ]
    },
    {
      "cell_type": "markdown",
      "metadata": {
        "id": "UWNiwi6kdVkW",
        "colab_type": "text"
      },
      "source": [
        "\n",
        "\n",
        "> *Q2.The Coin Change Problem: https://www.hackerrank.com/challenges/coin-change/problem*\n",
        "\n"
      ]
    },
    {
      "cell_type": "code",
      "metadata": {
        "id": "iaAiUu7_c5vJ",
        "colab_type": "code",
        "colab": {}
      },
      "source": [
        "#!/bin/python3\n",
        "\n",
        "import math\n",
        "import os\n",
        "import random\n",
        "import re\n",
        "import sys\n",
        "\n",
        "#\n",
        "# Complete the 'getWays' function below.\n",
        "#\n",
        "# The function is expected to return a LONG_INTEGER.\n",
        "# The function accepts following parameters:\n",
        "#  1. INTEGER n\n",
        "#  2. LONG_INTEGER_ARRAY c\n",
        "#\n",
        "\n",
        "def getWays(n, c):\n",
        "    arr = [0 for i in range(n+1)]\n",
        "    arr[0] = 1\n",
        "\n",
        "    for k in c:\n",
        "        for i in range(1,n+1):\n",
        "            if n>=k:\n",
        "                if i>=k:\n",
        "                    arr[i] += arr[i-k]\n",
        "    return arr[-1]\n",
        "\n",
        "\n",
        "    first_multiple_input = input().rstrip().split()\n",
        "\n",
        "    n = int(first_multiple_input[0])\n",
        "\n",
        "    m = int(first_multiple_input[1])\n",
        "\n",
        "    c = list(map(int, input().rstrip().split()))\n",
        "\n",
        "    # Print the number of ways of making change for 'n' units using coins having the values given by 'c'\n",
        "\n",
        "    ways = getWays(n, c)\n",
        "    return ways"
      ],
      "execution_count": null,
      "outputs": []
    },
    {
      "cell_type": "code",
      "metadata": {
        "id": "acyekGqmfXev",
        "colab_type": "code",
        "colab": {}
      },
      "source": [
        "getways = getWays(4,[1,2,3])"
      ],
      "execution_count": null,
      "outputs": []
    },
    {
      "cell_type": "code",
      "metadata": {
        "id": "zjHsWwoFjs8T",
        "colab_type": "code",
        "colab": {
          "base_uri": "https://localhost:8080/",
          "height": 35
        },
        "outputId": "502f8f10-4f0d-488b-e34c-49b1d1273d6c"
      },
      "source": [
        "print(getways)"
      ],
      "execution_count": null,
      "outputs": [
        {
          "output_type": "stream",
          "text": [
            "4\n"
          ],
          "name": "stdout"
        }
      ]
    },
    {
      "cell_type": "markdown",
      "metadata": {
        "id": "4onW1rWusRml",
        "colab_type": "text"
      },
      "source": [
        "The function getWays is used to get the number of ways. It takes inputs of n and c, where n is the amount to make change and c is the available denominations. The function then initializes array arr with zeros and the arr[1] is set as 1.\n",
        "\n",
        "Nested for loops with added if conditions is used for this function to ensure all the n amounts and with the available denominations are permuted well as well as it is ensured that c[i] is unique.\n"
      ]
    },
    {
      "cell_type": "markdown",
      "metadata": {
        "id": "FPVv4n9AqKpA",
        "colab_type": "text"
      },
      "source": [
        "\n",
        "\n",
        "> *Q3.Sherlock and Cost: https://www.hackerrank.com/challenges/sherlock-and-cost/problem*\n",
        "\n"
      ]
    },
    {
      "cell_type": "code",
      "metadata": {
        "id": "2ikqs75Dn8g0",
        "colab_type": "code",
        "colab": {}
      },
      "source": [
        "#!/bin/python3\n",
        "\n",
        "import math\n",
        "import os\n",
        "import random\n",
        "import re\n",
        "import sys\n",
        "\n",
        "def cost(B):\n",
        "    L=len(B)\n",
        "    mt=matrix = [[0 for i in range(2)] for i in range(L)]\n",
        "    i=1\n",
        "    while i<len(B):\n",
        "        mt[i][0]=max(mt[i-1][0], mt[i-1][1]+B[i-1]-1)\n",
        "        mt[i][1]=max(mt[i-1][0]+B[i]-1, mt[i-1][1]+abs(B[i]-B[i-1]))\n",
        "        i += 1\n",
        "    return max(mt[L-1][0],mt[L-1][1])\n",
        "\n",
        "    t = int(input())\n",
        "\n",
        "    for t_itr in range(t):\n",
        "        n = int(input())\n",
        "\n",
        "  B = list(map(int, input().rstrip().split()))\n"
      ],
      "execution_count": null,
      "outputs": []
    },
    {
      "cell_type": "code",
      "metadata": {
        "id": "N3PZG80Y3Fxi",
        "colab_type": "code",
        "colab": {}
      },
      "source": [
        "cost = cost([10,1,10,1,10])"
      ],
      "execution_count": null,
      "outputs": []
    },
    {
      "cell_type": "code",
      "metadata": {
        "id": "lxe16StU3v2_",
        "colab_type": "code",
        "colab": {
          "base_uri": "https://localhost:8080/",
          "height": 35
        },
        "outputId": "6f31e664-63a8-45e3-cf9c-848035a011e3"
      },
      "source": [
        "cost"
      ],
      "execution_count": null,
      "outputs": [
        {
          "output_type": "execute_result",
          "data": {
            "text/plain": [
              "36"
            ]
          },
          "metadata": {
            "tags": []
          },
          "execution_count": 29
        }
      ]
    },
    {
      "cell_type": "markdown",
      "metadata": {
        "id": "tFoHJbbWrDZI",
        "colab_type": "text"
      },
      "source": [
        "An array B is given where array dp is determined such that A[i]<=B[i].\n",
        "\n",
        "The cost function is used to get the maximum difference between two consecutive pairs of A. \n",
        "\n",
        "mt[i][0] means the max sum of A[0 to i] when A[i]=1 and mt[i][1] is the max sum of A[0 to i] when A[i]=B[i]\n",
        "\n",
        "The function returns the maximum between mt[0] and mt[1]."
      ]
    },
    {
      "cell_type": "code",
      "metadata": {
        "id": "9lJL-vHH3yKX",
        "colab_type": "code",
        "colab": {}
      },
      "source": [
        "  "
      ],
      "execution_count": null,
      "outputs": []
    }
  ]
}