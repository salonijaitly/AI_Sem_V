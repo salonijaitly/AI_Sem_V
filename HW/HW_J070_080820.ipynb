{
  "nbformat": 4,
  "nbformat_minor": 0,
  "metadata": {
    "colab": {
      "name": "HW_J070_080820.ipynb",
      "provenance": [],
      "collapsed_sections": [],
      "authorship_tag": "ABX9TyOUsB/3MSZ8e4iy/bmB2qmO",
      "include_colab_link": true
    },
    "kernelspec": {
      "name": "python3",
      "display_name": "Python 3"
    }
  },
  "cells": [
    {
      "cell_type": "markdown",
      "metadata": {
        "id": "view-in-github",
        "colab_type": "text"
      },
      "source": [
        "<a href=\"https://colab.research.google.com/github/salonijaitly/AI_Sem_V/blob/master/HW/HW_J070_080820.ipynb\" target=\"_parent\"><img src=\"https://colab.research.google.com/assets/colab-badge.svg\" alt=\"Open In Colab\"/></a>"
      ]
    },
    {
      "cell_type": "markdown",
      "metadata": {
        "id": "kPEjbcmZyOT7",
        "colab_type": "text"
      },
      "source": [
        "#**A Knapsack Problem**:\n",
        "https://www.hackerrank.com/contests/w15/challenges/a-knapsack-problem/problem"
      ]
    },
    {
      "cell_type": "code",
      "metadata": {
        "id": "E1j6PUWHwWPp",
        "colab_type": "code",
        "colab": {}
      },
      "source": [
        "import sys\n",
        "import heapq"
      ],
      "execution_count": 25,
      "outputs": []
    },
    {
      "cell_type": "code",
      "metadata": {
        "id": "6_dIW5otwMzy",
        "colab_type": "code",
        "colab": {}
      },
      "source": [
        "def result(N,M,S,V,E) :\n",
        "\n",
        "    T = tuple(set() for i in range(N))\n",
        "    for u,v in E :\n",
        "        T[u].add(v)\n",
        "        T[v].add(u)\n",
        "    Total, order, maxval = sum(V), sorted(range(n), reverse=True, key=(lambda i : V[i]/S[i])), 0\n",
        "        \n",
        "    def getMax(accessed, connected, rejected, size, val, rejectedValue, maxval) :\n",
        "        if val > maxval :\n",
        "            maxval = val\n",
        "        if not connected :\n",
        "            return maxval\n",
        "        i = Best(connected)\n",
        "        if size + S[i] <= M :\n",
        "            maxval = getMax(accessed|{i}, (connected-{i}) | (T[i]-rejected-accessed), rejected, size+S[i], val+V[i], rejectedValue, maxval)\n",
        "        if Total - (rejectedValue + V[i]) > maxval :\n",
        "            maxval = getMax(accessed|{i}, connected-{i}, rejected | {i}, size, val, rejectedValue + V[i], maxval)\n",
        "        return maxval\n",
        "\n",
        "    def Best(connected) :\n",
        "        for i in order :\n",
        "            if i in connected :\n",
        "                return i\n",
        "    for s in order :\n",
        "        maxval = getMax(set(),{s},set(),0,0,0,maxval)\n",
        "\n",
        "    return maxval"
      ],
      "execution_count": 26,
      "outputs": []
    },
    {
      "cell_type": "markdown",
      "metadata": {
        "id": "8MNQ-IhW38M_",
        "colab_type": "text"
      },
      "source": [
        "#Input 1"
      ]
    },
    {
      "cell_type": "code",
      "metadata": {
        "id": "VwD7m97pxrPH",
        "colab_type": "code",
        "colab": {
          "base_uri": "https://localhost:8080/",
          "height": 195
        },
        "outputId": "c8898078-db8d-4e73-8ebe-d65d5931d8d5"
      },
      "source": [
        "T = int(input())\n",
        "for i in range(T) :\n",
        "    n,m = (int(i) for i in input().split())\n",
        "    s = tuple(int(i) for i in input().split())\n",
        "    v = tuple(int(i) for i in input().split())\n",
        "    e = tuple((int(i)-1 for i in input().split()) for i in range(n-1))\n",
        "    print(\"\\n\")\n",
        "    print(\"output\")\n",
        "    print(result(n,m,s,v,e))"
      ],
      "execution_count": 27,
      "outputs": [
        {
          "output_type": "stream",
          "text": [
            "1\n",
            "3 1\n",
            "1 1 1\n",
            "1 2 3\n",
            "1 2\n",
            "1 3\n",
            "\n",
            "\n",
            "output\n",
            "3\n"
          ],
          "name": "stdout"
        }
      ]
    },
    {
      "cell_type": "markdown",
      "metadata": {
        "id": "0MdBeZcO4B6-",
        "colab_type": "text"
      },
      "source": [
        "#Input 2"
      ]
    },
    {
      "cell_type": "code",
      "metadata": {
        "id": "tqQqPXZtsJOg",
        "colab_type": "code",
        "colab": {
          "base_uri": "https://localhost:8080/",
          "height": 230
        },
        "outputId": "9f9c8f3f-da19-40a4-ce43-2a04a99efa24"
      },
      "source": [
        "T = int(input())\n",
        "for i in range(T) :\n",
        "    n,m = (int(i) for i in input().split())\n",
        "    s = tuple(int(i) for i in input().split())\n",
        "    v = tuple(int(i) for i in input().split())\n",
        "    e = tuple((int(i)-1 for i in input().split()) for i in range(n-1))\n",
        "    print(\"\\n\")\n",
        "    print(\"output\")\n",
        "    print(result(n,m,s,v,e))"
      ],
      "execution_count": 28,
      "outputs": [
        {
          "output_type": "stream",
          "text": [
            "1\n",
            "5 3\n",
            "1 1 1 1 1\n",
            "3 5 2 2 3\n",
            "1 2\n",
            "1 3\n",
            "2 4\n",
            "2 5\n",
            "\n",
            "\n",
            "output\n",
            "11\n"
          ],
          "name": "stdout"
        }
      ]
    },
    {
      "cell_type": "markdown",
      "metadata": {
        "id": "veT4OUx44F8V",
        "colab_type": "text"
      },
      "source": [
        "#Input 3"
      ]
    },
    {
      "cell_type": "code",
      "metadata": {
        "id": "lyj6lCJs3bgP",
        "colab_type": "code",
        "colab": {
          "base_uri": "https://localhost:8080/",
          "height": 301
        },
        "outputId": "cc1cc340-38db-4574-8ca6-e6617a9dfaa0"
      },
      "source": [
        "T = int(input())\n",
        "for i in range(T) :\n",
        "    n,m = (int(i) for i in input().split())\n",
        "    s = tuple(int(i) for i in input().split())\n",
        "    v = tuple(int(i) for i in input().split())\n",
        "    e = tuple((int(i)-1 for i in input().split()) for i in range(n-1))\n",
        "    print(\"\\n\")\n",
        "    print(\"output\")\n",
        "    print(result(n,m,s,v,e))"
      ],
      "execution_count": 31,
      "outputs": [
        {
          "output_type": "stream",
          "text": [
            "1\n",
            "9 7\n",
            "1 1 3 2 1 1 1 5 5\n",
            "1 0 8 5 1 2 0 9 14\n",
            "1 2\n",
            "2 3\n",
            "2 4\n",
            "3 5\n",
            "3 6\n",
            "4 7\n",
            "4 8\n",
            "7 9\n",
            "\n",
            "\n",
            "output\n",
            "15\n"
          ],
          "name": "stdout"
        }
      ]
    }
  ]
}